{
 "cells": [
  {
   "cell_type": "code",
   "execution_count": null,
   "metadata": {
    "collapsed": true
   },
   "outputs": [],
   "source": [
    "# This is a notebook for looking at the different methods for identifying clustering."
   ]
  },
  {
   "cell_type": "code",
   "execution_count": 1,
   "metadata": {
    "collapsed": true
   },
   "outputs": [],
   "source": [
    "# importing the neccessary modules\n",
    "\n",
    "import csv\n",
    "import matplotlib.pyplot as plt\n",
    "import numpy as np"
   ]
  },
  {
   "cell_type": "code",
   "execution_count": 2,
   "metadata": {
    "scrolled": true
   },
   "outputs": [],
   "source": [
    "# reading in the csv file\n",
    "\n",
    "csvarray = []\n",
    "filelocation = '/Users/zack/Documents/Documents/csv_data_files/'\n",
    "filename = 'test_case_20'\n",
    "with open(filelocation + filename + '.csv', 'r') as csvfile:\n",
    "    csv_data = list(csv.reader(csvfile, delimiter=\",\"))\n",
    "#print (csv_data[:3])\n",
    "csvarray = np.array(csv_data[1:], dtype=np.float) # Remove headers and convert to floats\n",
    "#print (csvarray[:3])"
   ]
  },
  {
   "cell_type": "code",
   "execution_count": 3,
   "metadata": {
    "collapsed": true
   },
   "outputs": [],
   "source": [
    "# Variables\n",
    "\n",
    "x_len = 28.0 # Length of x axis\n",
    "y_len = 16.0 # Length of y axis\n",
    "\n",
    "# The following variables are pulled from the csv file\n",
    "\n",
    "num_part = len(csvarray) # Number of particles\n",
    "#print (num_part)\n",
    "x = csvarray[:,7]\n",
    "y = csvarray[:,8]\n",
    "rad = np.mean(csvarray[:, 1])/2\n",
    "#print (rad)\n",
    "\n",
    "#print (x[:3])\n",
    "#print (len(x))"
   ]
  },
  {
   "cell_type": "code",
   "execution_count": 4,
   "metadata": {
    "collapsed": true
   },
   "outputs": [],
   "source": [
    "# A function that creates an array of the particles within a set distance from the selected particle\n",
    "\n",
    "def domain_reduction(arr, j, x, y, radius):\n",
    "    arr_red = []\n",
    "    x_pos = arr[j, x]\n",
    "    y_pos = arr[j, y]\n",
    "    #print (x_pos)\n",
    "    for i in range(0, len(arr)):\n",
    "        if arr[i, x] < x_pos + radius and arr[i, x] > x_pos - radius:\n",
    "            if arr[i, y] < y_pos + radius and arr[i, y] > y_pos - radius:\n",
    "                arr_red.append(arr[i])\n",
    "    arr_red = np.array(arr_red)\n",
    "    #print (arr_red)\n",
    "    return arr_red\n",
    "    "
   ]
  },
  {
   "cell_type": "code",
   "execution_count": 5,
   "metadata": {
    "collapsed": true
   },
   "outputs": [],
   "source": [
    "# Creating an array of the nearest neighbors and which particles are the nearest.\n",
    "\n",
    "num_of_it = len(x)\n",
    "#print (num_of_it)\n",
    "min_array = []\n",
    "\n",
    "for i in range(0, num_of_it):\n",
    "    \n",
    "    #if i % 100 == 0:\n",
    "        #print (i)\n",
    "    #print (i)    \n",
    "    near_neigh = []\n",
    "    #print (near_neigh)\n",
    "    red_arr = domain_reduction(csvarray, i, 7, 8, 5) # Creating an array that is reduced to particles within a set radius.\n",
    "    #print (len(red_arr))\n",
    "    #print (red_arr)\n",
    "    \n",
    "    for n in range(0, len(red_arr)):\n",
    "        if csvarray[i, 0] != red_arr[n, 0]:\n",
    "            distance = np.sqrt((csvarray[i, 7] - red_arr[n, 7])**2 + (csvarray[i, 8] - red_arr[n, 8])**2) - \\\n",
    "            ((csvarray[i, 1]/2) + (red_arr[n, 1]/2))\n",
    "            arr = np.array([csvarray[i, 0], red_arr[n, 0], distance])\n",
    "            #print (arr)\n",
    "            near_neigh.append(arr)\n",
    "        \n",
    "    near_neigh = np.array(near_neigh) # Converts the list into an array\n",
    "    #print (near_neigh)\n",
    "    min_dist = np.amin(near_neigh[:, 2])\n",
    "    min_index = np.argmin(near_neigh[:, 2]) # Gives the index of the minimum value in the near_neigh array\n",
    "    #print (min_index)\n",
    "    min_array.append(near_neigh[min_index])\n",
    "min_array = np.array(min_array)\n",
    "#print (min_array)\n",
    "        \n",
    "            "
   ]
  },
  {
   "cell_type": "code",
   "execution_count": 6,
   "metadata": {
    "collapsed": true
   },
   "outputs": [],
   "source": [
    "# Writing nearest neighbor data to csv\n",
    "\n",
    "tablename = 'minimum_distance'\n",
    "with open(filelocation + tablename + filename + '.csv', 'w', newline='') as f:\n",
    "    writer=csv.writer(f)\n",
    "    writer.writerow(['original particle', 'nearest neighbor', 'distance'])\n",
    "    writer.writerows(min_array)\n"
   ]
  },
  {
   "cell_type": "code",
   "execution_count": 7,
   "metadata": {
    "collapsed": true
   },
   "outputs": [],
   "source": [
    "# reading the nearest neighbor data from csv\n",
    "\n",
    "with open(filelocation + tablename + filename + '.csv', 'r') as csvminfile:\n",
    "    csv_min = list(csv.reader(csvminfile, delimiter=\",\"))\n",
    "#print (csv_data[:3])\n",
    "min_array = np.array(csv_min[1:], dtype=np.float) # Remove headers and convert to floats\n",
    "#print (csvarray[:3])"
   ]
  },
  {
   "cell_type": "code",
   "execution_count": 8,
   "metadata": {},
   "outputs": [
    {
     "name": "stdout",
     "output_type": "stream",
     "text": [
      "1.011\n"
     ]
    }
   ],
   "source": [
    "# Finding the mean distance rA\n",
    "\n",
    "#print(min_array[:, 2])\n",
    "rA = np.mean(min_array[:, 2])\n",
    "print (\"{:2.3f}\".format(rA))"
   ]
  },
  {
   "cell_type": "code",
   "execution_count": 9,
   "metadata": {},
   "outputs": [
    {
     "name": "stdout",
     "output_type": "stream",
     "text": [
      "0.046\n",
      "2.32\n"
     ]
    }
   ],
   "source": [
    "# Calculating rE the expected value\n",
    "\n",
    "lam = num_part / ((x_len * y_len) - 20*(np.pi*rad**2)) # Intensity\n",
    "print (\"{:2.3f}\".format(lam))\n",
    "\n",
    "denom = 2 * np.sqrt(lam)\n",
    "rE = 1 / (2 * np.sqrt(lam))\n",
    "print (\"{:2.2f}\".format(rE))"
   ]
  },
  {
   "cell_type": "code",
   "execution_count": 10,
   "metadata": {},
   "outputs": [
    {
     "name": "stdout",
     "output_type": "stream",
     "text": [
      "0.44\n"
     ]
    }
   ],
   "source": [
    "# Calculating R\n",
    "\n",
    "R = rA / rE\n",
    "print (\"{:2.2f}\".format(R))\n"
   ]
  },
  {
   "cell_type": "code",
   "execution_count": null,
   "metadata": {
    "collapsed": true
   },
   "outputs": [],
   "source": []
  },
  {
   "cell_type": "code",
   "execution_count": 21,
   "metadata": {
    "collapsed": true
   },
   "outputs": [],
   "source": [
    "def part_in_rad(arr, part_num, x_val, y_val, radius):\n",
    "    \n",
    "    num_part = []\n",
    "    \n",
    "    for i in range(0, len(arr)):\n",
    "        #print (i)\n",
    "        dist = np.sqrt((arr[part_num, x_val] - arr[i, x_val])**2 + (arr[part_num, y_val] - arr[i, y_val])**2) - \\\n",
    "        (arr[part_num, 1]/2 + arr[i, 1]/2)\n",
    "        if dist <= radius and dist > 0:\n",
    "            #print (arr[i, :])\n",
    "            num_part.append(arr[i, :])\n",
    "            #print(num_part)\n",
    "        #print (num_part)\n",
    "    num_part = np.array(num_part)\n",
    "    #print (num_part)\n",
    "    #print (len(num_part))        \n",
    "    Np = len(num_part)\n",
    "    #print (Np)\n",
    "#    return num_part\n",
    "    if len(num_part) == 0:\n",
    "        return 0\n",
    "    else:\n",
    "        return Np"
   ]
  },
  {
   "cell_type": "code",
   "execution_count": 39,
   "metadata": {},
   "outputs": [
    {
     "name": "stdout",
     "output_type": "stream",
     "text": [
      "[ 0.    1.44  2.39  2.98  3.82  3.95  4.22  4.47  4.69  4.69  5.08  6.06]\n"
     ]
    }
   ],
   "source": [
    "# Calculating k(r)\n",
    "Kr = []\n",
    "\n",
    "radius = [0, 0.5, 1, 1.5, 2, 2.5, 3, 3.5, 4, 4.5, 5, 5.5]\n",
    "#print (len(radius))\n",
    "for i in radius:\n",
    "    #print (i)\n",
    "    kr = []\n",
    "    arr = []\n",
    "    for n in range(0, len(csvarray)):\n",
    "        if csvarray[n, 7] - csvarray[n, 1]/2 >= i and csvarray[n, 7] + csvarray[n, 1]/2 <= x_len - i and \\\n",
    "        csvarray[n, 8] - csvarray[n, 1]/2 >= i and csvarray[n, 8] + csvarray[n, 1]/2 <= y_len - i:\n",
    "            num_part = part_in_rad(csvarray, n, 7, 8, i)\n",
    "            #arr.append(num_part)\n",
    "            #np.append(arr, num_part)\n",
    "            #print (arr)\n",
    "            #particle = len(arr)\n",
    "            kr.append(num_part / lam)\n",
    "            #print (kr)\n",
    "    Kr.append(np.mean(kr))\n",
    "Kr = np.array(Kr)\n",
    "#print (Kr)\n",
    "\n",
    "Lr = np.sqrt(Kr / np.pi)\n",
    "np.set_printoptions(precision=2)\n",
    "print (Lr)"
   ]
  },
  {
   "cell_type": "code",
   "execution_count": 40,
   "metadata": {},
   "outputs": [
    {
     "data": {
      "image/png": "[encoded data removed]",
      "text/plain": [
       "<matplotlib.figure.Figure at 0x110b2fc18>"
      ]
     },
     "metadata": {},
     "output_type": "display_data"
    }
   ],
   "source": [
    "plt.plot(radius, Lr, 'r*-')\n",
    "plt.plot(radius, radius, 'k-')\n",
    "plt.show()"
   ]
  },
  {
   "cell_type": "code",
   "execution_count": null,
   "metadata": {
    "collapsed": true
   },
   "outputs": [],
   "source": []
  },
  {
   "cell_type": "code",
   "execution_count": 43,
   "metadata": {
    "collapsed": true
   },
   "outputs": [],
   "source": [
    "# Finding g(r), 1/(2*pi*r)*dk(r)/dr"
   ]
  },
  {
   "cell_type": "code",
   "execution_count": 41,
   "metadata": {},
   "outputs": [
    {
     "name": "stdout",
     "output_type": "stream",
     "text": [
      "[ 4.13  3.67  2.11  2.86  0.39  0.73  0.64  0.5   0.    0.76  1.98]\n"
     ]
    }
   ],
   "source": [
    "gr = []\n",
    "\n",
    "for i in range(1, len(radius)):\n",
    "    dkr = (Kr[i] - Kr[i-1]) / (radius[i] - radius[i-1])\n",
    "    #print (dkr)\n",
    "    gr.append(dkr / (2 * np.pi * radius[i]))\n",
    "gr = np.array(gr)\n",
    "print (gr)"
   ]
  },
  {
   "cell_type": "code",
   "execution_count": 42,
   "metadata": {},
   "outputs": [
    {
     "data": {
      "image/png": "[encoded data removed]",
      "text/plain": [
       "<matplotlib.figure.Figure at 0x110df90b8>"
      ]
     },
     "metadata": {},
     "output_type": "display_data"
    }
   ],
   "source": [
    "plt.plot(radius[1:len(radius)], gr, 'bo-')\n",
    "plt.plot(radius[1:len(radius)], np.ones(len(gr)), 'k-')\n",
    "plt.show()"
   ]
  },
  {
   "cell_type": "code",
   "execution_count": null,
   "metadata": {
    "collapsed": true
   },
   "outputs": [],
   "source": []
  }
 ],
 "metadata": {
  "kernelspec": {
   "display_name": "Python 3",
   "language": "python",
   "name": "python3"
  },
  "language_info": {
   "codemirror_mode": {
    "name": "ipython",
    "version": 3
   },
   "file_extension": ".py",
   "mimetype": "text/x-python",
   "name": "python",
   "nbconvert_exporter": "python",
   "pygments_lexer": "ipython3",
   "version": "3.6.2"
  }
 },
 "nbformat": 4,
 "nbformat_minor": 2
}
