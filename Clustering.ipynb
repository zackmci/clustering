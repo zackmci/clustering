{
 "cells": [
  {
   "cell_type": "code",
   "execution_count": null,
   "metadata": {
    "collapsed": true
   },
   "outputs": [],
   "source": [
    "# This is a notebook for looking at the different methods for identifying clustering."
   ]
  },
  {
   "cell_type": "code",
   "execution_count": 83,
   "metadata": {
    "collapsed": true
   },
   "outputs": [],
   "source": [
    "# importing the neccessary modules\n",
    "\n",
    "import csv\n",
    "import matplotlib.pyplot as plt\n",
    "import numpy as np"
   ]
  },
  {
   "cell_type": "code",
   "execution_count": 2,
   "metadata": {
    "scrolled": true
   },
   "outputs": [],
   "source": [
    "# reading in the csv file\n",
    "\n",
    "csvarray = []\n",
    "filelocation = '/Users/zack/Documents/Documents/csv_data_files/'\n",
    "filename = 'test_case_20'\n",
    "with open(filelocation + filename + '.csv', 'r') as csvfile:\n",
    "    csv_data = list(csv.reader(csvfile, delimiter=\",\"))\n",
    "#print (csv_data[:3])\n",
    "csvarray = np.array(csv_data[1:], dtype=np.float) # Remove headers and convert to floats\n",
    "#print (csvarray[:3])"
   ]
  },
  {
   "cell_type": "code",
   "execution_count": 4,
   "metadata": {},
   "outputs": [],
   "source": [
    "# Variables\n",
    "\n",
    "x_len = 28.0 # Length of x axis\n",
    "y_len = 16.0 # Length of y axis\n",
    "\n",
    "# The following variables are pulled from the csv file\n",
    "\n",
    "num_part = len(csvarray) # Number of particles\n",
    "#print (num_part)\n",
    "x = csvarray[:,7]\n",
    "y = csvarray[:,8]\n",
    "rad = np.mean(csvarray[:, 1])/2\n",
    "#print (rad)\n",
    "\n",
    "#print (x[:3])\n",
    "#print (len(x))"
   ]
  },
  {
   "cell_type": "code",
   "execution_count": 5,
   "metadata": {
    "collapsed": true
   },
   "outputs": [],
   "source": [
    "# A function that creates an array of the particles within a set distance from the selected particle\n",
    "\n",
    "def domain_reduction(arr, j, x, y, radius):\n",
    "    arr_red = []\n",
    "    x_pos = arr[j, x]\n",
    "    y_pos = arr[j, y]\n",
    "    #print (x_pos)\n",
    "    for i in range(0, len(arr)):\n",
    "        if arr[i, x] < x_pos + radius and arr[i, x] > x_pos - radius:\n",
    "            if arr[i, y] < y_pos + radius and arr[i, y] > y_pos - radius:\n",
    "                arr_red.append(arr[i])\n",
    "    arr_red = np.array(arr_red)\n",
    "    #print (arr_red)\n",
    "    return arr_red\n",
    "    "
   ]
  },
  {
   "cell_type": "code",
   "execution_count": 6,
   "metadata": {},
   "outputs": [],
   "source": [
    "# Creating an array of the nearest neighbors and which particles are the nearest.\n",
    "\n",
    "num_of_it = len(x)\n",
    "#print (num_of_it)\n",
    "min_array = []\n",
    "\n",
    "for i in range(0, num_of_it):\n",
    "    \n",
    "    #if i % 100 == 0:\n",
    "        #print (i)\n",
    "    #print (i)    \n",
    "    near_neigh = []\n",
    "    #print (near_neigh)\n",
    "    red_arr = domain_reduction(csvarray, i, 7, 8, 5) # Creating an array that is reduced to particles within a set radius.\n",
    "    #print (len(red_arr))\n",
    "    #print (red_arr)\n",
    "    \n",
    "    for n in range(0, len(red_arr)):\n",
    "        if csvarray[i, 0] != red_arr[n, 0]:\n",
    "            distance = np.sqrt((csvarray[i, 7] - red_arr[n, 7])**2 + (csvarray[i, 8] - red_arr[n, 8])**2) - \\\n",
    "            ((csvarray[i, 1]/2) + (red_arr[n, 1]/2))\n",
    "            arr = np.array([csvarray[i, 0], red_arr[n, 0], distance])\n",
    "            #print (arr)\n",
    "            near_neigh.append(arr)\n",
    "        \n",
    "    near_neigh = np.array(near_neigh) # Converts the list into an array\n",
    "    #print (near_neigh)\n",
    "    min_dist = np.amin(near_neigh[:, 2])\n",
    "    min_index = np.argmin(near_neigh[:, 2]) # Gives the index of the minimum value in the near_neigh array\n",
    "    #print (min_index)\n",
    "    min_array.append(near_neigh[min_index])\n",
    "min_array = np.array(min_array)\n",
    "#print (min_array)\n",
    "        \n",
    "            "
   ]
  },
  {
   "cell_type": "code",
   "execution_count": 7,
   "metadata": {},
   "outputs": [],
   "source": [
    "# # Looking for and removing repeated values\n",
    "\n",
    "# total = len(min_array) - 1\n",
    "# i = 0\n",
    "# while i < total:\n",
    "#     #print (i)\n",
    "#     n = 1\n",
    "#     while n < total + 1:\n",
    "#         if min_array[i, 0] == min_array[n, 1] and min_array[i, 1] == min_array[n, 0]:\n",
    "#             #print (min_array[i])\n",
    "#             min_array = np.delete(min_array, i, 0)\n",
    "#             total = total - 1\n",
    "#             #print (total)\n",
    "#         n = n + 1\n",
    "#     i = i + 1\n",
    "# #print(min_array)"
   ]
  },
  {
   "cell_type": "code",
   "execution_count": 8,
   "metadata": {},
   "outputs": [],
   "source": [
    "# Writing nearest neighbor data to csv\n",
    "\n",
    "tablename = 'minimum_distance'\n",
    "with open(filelocation + tablename + filename + '.csv', 'w', newline='') as f:\n",
    "    writer=csv.writer(f)\n",
    "    writer.writerow(['original particle', 'nearest neighbor', 'distance'])\n",
    "    writer.writerows(min_array)\n"
   ]
  },
  {
   "cell_type": "code",
   "execution_count": 9,
   "metadata": {
    "collapsed": true
   },
   "outputs": [],
   "source": [
    "# reading the nearest neighbor data from csv\n",
    "\n",
    "with open(filelocation + tablename + filename + '.csv', 'r') as csvminfile:\n",
    "    csv_min = list(csv.reader(csvminfile, delimiter=\",\"))\n",
    "#print (csv_data[:3])\n",
    "min_array = np.array(csv_min[1:], dtype=np.float) # Remove headers and convert to floats\n",
    "#print (csvarray[:3])"
   ]
  },
  {
   "cell_type": "code",
   "execution_count": 10,
   "metadata": {},
   "outputs": [
    {
     "name": "stdout",
     "output_type": "stream",
     "text": [
      "1.011\n"
     ]
    }
   ],
   "source": [
    "# Finding the mean distance rA\n",
    "\n",
    "#print(min_array[:, 2])\n",
    "rA = np.mean(min_array[:, 2])\n",
    "print (\"{:2.3f}\".format(rA))"
   ]
  },
  {
   "cell_type": "code",
   "execution_count": 11,
   "metadata": {},
   "outputs": [
    {
     "name": "stdout",
     "output_type": "stream",
     "text": [
      "2.32\n"
     ]
    }
   ],
   "source": [
    "# Calculating rE the expected value\n",
    "\n",
    "lam = num_part / ((x_len * y_len) - 20*(np.pi*rad**2)) # Intensity\n",
    "#print (\"{:2.3f}\".format(lam))\n",
    "\n",
    "denom = 2 * np.sqrt(lam)\n",
    "rE = 1 / (2 * np.sqrt(lam))\n",
    "print (\"{:2.2f}\".format(rE))"
   ]
  },
  {
   "cell_type": "code",
   "execution_count": 12,
   "metadata": {},
   "outputs": [
    {
     "name": "stdout",
     "output_type": "stream",
     "text": [
      "0.44\n"
     ]
    }
   ],
   "source": [
    "# Calculating R\n",
    "\n",
    "R = rA / rE\n",
    "print (\"{:2.2f}\".format(R))\n"
   ]
  },
  {
   "cell_type": "code",
   "execution_count": null,
   "metadata": {},
   "outputs": [],
   "source": []
  },
  {
   "cell_type": "code",
   "execution_count": null,
   "metadata": {
    "collapsed": true
   },
   "outputs": [],
   "source": []
  },
  {
   "cell_type": "code",
   "execution_count": 76,
   "metadata": {},
   "outputs": [],
   "source": [
    "def part_in_rad(arr, part_num, x_val, y_val, radius):\n",
    "    \n",
    "    num_part = []\n",
    "    \n",
    "    for i in range(0, len(arr)):\n",
    "        #print (i)\n",
    "        dist = np.sqrt((arr[part_num, x_val] - arr[i, x_val])**2 + (arr[part_num, y_val] - arr[i, y_val])**2) - \\\n",
    "        (arr[part_num, 1]/2 + arr[i, 1]/2)\n",
    "        if dist <= radius and dist > 0:\n",
    "            num_part.append(arr[i, :])\n",
    "                \n",
    "    num_part = np.array(num_part)\n",
    "    #print (num_part)\n",
    "    #print (len(num_part))        \n",
    "    Np = len(num_part)\n",
    "    #print (Np)\n",
    "    if len(num_part) == 0:\n",
    "        return 0\n",
    "    else:\n",
    "        return Np"
   ]
  },
  {
   "cell_type": "code",
   "execution_count": 92,
   "metadata": {},
   "outputs": [
    {
     "name": "stdout",
     "output_type": "stream",
     "text": [
      "[ 0.    1.44  2.49  2.99  3.8   4.06  4.23  4.47  4.62  4.62  4.91  5.31\n",
      "  5.44  5.87  6.15]\n"
     ]
    }
   ],
   "source": [
    "# Calculating k(r)\n",
    "Kr = []\n",
    "\n",
    "radius = [0, 0.5, 1, 1.5, 2, 2.5, 3, 3.5, 4, 4.5, 5, 5.5, 6, 6.5, 7]\n",
    "#print (len(radius))\n",
    "for i in range(0, len(radius)):\n",
    "    #print (i)\n",
    "    kr = []\n",
    "    for n in range(0, len(csvarray)):\n",
    "        num_part = part_in_rad(csvarray, n, 7, 8, radius[i])\n",
    "        kr.append(num_part / lam)\n",
    "        #print (kr)\n",
    "    Kr.append(np.mean(kr))\n",
    "Kr = np.array(Kr)\n",
    "#print (Kr)\n",
    "\n",
    "Lr = np.sqrt(Kr / np.pi)\n",
    "np.set_printoptions(precision=2)\n",
    "print (Lr)"
   ]
  },
  {
   "cell_type": "code",
   "execution_count": 88,
   "metadata": {},
   "outputs": [
    {
     "data": {
      "image/png": "[encoded data removed]",
      "text/plain": [
       "<matplotlib.figure.Figure at 0x11c7bc278>"
      ]
     },
     "metadata": {},
     "output_type": "display_data"
    }
   ],
   "source": [
    "plt.plot(radius, Lr, 'r*-')\n",
    "plt.plot(radius, radius, 'k-')\n",
    "plt.show()"
   ]
  },
  {
   "cell_type": "code",
   "execution_count": null,
   "metadata": {
    "collapsed": true
   },
   "outputs": [],
   "source": []
  }
 ],
 "metadata": {
  "kernelspec": {
   "display_name": "Python 3",
   "language": "python",
   "name": "python3"
  },
  "language_info": {
   "codemirror_mode": {
    "name": "ipython",
    "version": 3
   },
   "file_extension": ".py",
   "mimetype": "text/x-python",
   "name": "python",
   "nbconvert_exporter": "python",
   "pygments_lexer": "ipython3",
   "version": "3.6.2"
  }
 },
 "nbformat": 4,
 "nbformat_minor": 2
}
