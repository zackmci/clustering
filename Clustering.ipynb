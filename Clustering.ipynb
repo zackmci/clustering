{
 "cells": [
  {
   "cell_type": "markdown",
   "metadata": {
    "collapsed": true
   },
   "source": [
    "This jupyter notebook is used for calculating and plotting different methods of determining clusters for a system of disperse particles."
   ]
  },
  {
   "cell_type": "code",
   "execution_count": 1,
   "metadata": {},
   "outputs": [],
   "source": [
    "# importing the neccessary modules\n",
    "\n",
    "import csv\n",
    "import matplotlib.pyplot as plt\n",
    "import numpy as np"
   ]
  },
  {
   "cell_type": "code",
   "execution_count": 2,
   "metadata": {
    "scrolled": true
   },
   "outputs": [],
   "source": [
    "# reading in the csv file\n",
    "\n",
    "csvarray = []\n",
    "filelocation = '/Users/zack/Documents/Documents/csv_data_files/'\n",
    "filename = 'box512_ht_1_loc/box512_ht_1_loc.0'\n",
    "tablename = 'minimum_distance/'\n",
    "with open(filelocation + filename + '.csv', 'r') as csvfile:\n",
    "    csv_data = list(csv.reader(csvfile, delimiter=\",\"))\n",
    "#print (csv_data[:3])\n",
    "csvarray = np.array(csv_data[1:], dtype=np.float) # Remove headers and convert to floats\n",
    "#print (csvarray[:3])"
   ]
  },
  {
   "cell_type": "code",
   "execution_count": 3,
   "metadata": {},
   "outputs": [],
   "source": [
    "# Variables\n",
    "\n",
    "x_len = 512 # Length of x axis\n",
    "y_len = 256 # Length of y axis\n",
    "\n",
    "# The following variables are pulled from the csv file\n",
    "\n",
    "num_part = len(csvarray) # Number of particles\n",
    "#print (num_part)\n",
    "x = csvarray[:,7]\n",
    "y = csvarray[:,8]\n",
    "rad = np.mean(csvarray[:, 1])/2\n",
    "#print (rad)\n",
    "\n",
    "#print (x[:3])\n",
    "#print (len(x))"
   ]
  },
  {
   "cell_type": "markdown",
   "metadata": {},
   "source": [
    "The following code is for calculating the R value of the simulations at distinct timesteps. $$R = \\frac{r_A}{r_E}$$ Where $$r_A = \\frac{1}{N}{\\sum_{i=1}^n \\sum_{j=1}^n}_{i \\neq j}d_{ij}$$here $d_{ij}$ is the distance for the nearest neighbor j to particle i and N is the number of particles, and $$r_E = \\frac{1}{2 \\sqrt{\\lambda}}$$ Where $\\lambda = N/A$ A is the area of the domain."
   ]
  },
  {
   "cell_type": "code",
   "execution_count": null,
   "metadata": {},
   "outputs": [],
   "source": [
    "# A function that creates an array of the particles within a set distance from the selected particle\n",
    "\n",
    "def domain_reduction(arr, j, x, y, radius):\n",
    "    arr_red = []\n",
    "    x_pos = arr[j, x]\n",
    "    y_pos = arr[j, y]\n",
    "    #print (x_pos)\n",
    "    for i in range(0, len(arr)):\n",
    "        if arr[i, x] - arr[i, 1]/2 < x_pos + arr[j, 1]/2 + radius and \\\n",
    "        arr[i, x] + arr[i, 1]/2 > x_pos - arr[j, 1]/2 - radius:\n",
    "            if arr[i, y] - arr[i, 1]/2 < y_pos + arr[j, 1]/2 + radius and arr[i, y] + arr[i, 1]/2 > \\\n",
    "            y_pos - arr[j, 1]/2 - radius:\n",
    "                arr_red.append(arr[i])\n",
    "    arr_red = np.array(arr_red)\n",
    "    #print (arr_red)\n",
    "    return arr_red\n",
    "    "
   ]
  },
  {
   "cell_type": "code",
   "execution_count": null,
   "metadata": {
    "scrolled": true
   },
   "outputs": [],
   "source": [
    "# Creating an array of the nearest neighbors and which particles are the nearest.\n",
    "\n",
    "num_of_it = len(x)\n",
    "#print (num_of_it)\n",
    "min_array = []\n",
    "\n",
    "for i in range(0, num_of_it):\n",
    "    \n",
    "    if i % 1000 == 0:\n",
    "        print (i)\n",
    "#    print (i)    \n",
    "    near_neigh = []\n",
    "    #print (near_neigh)\n",
    "    \n",
    "    # Creating an array that is reduced to particles within a set radius.\n",
    "    red_arr = domain_reduction(csvarray, i, 7, 8, 5) \n",
    "    #print (len(red_arr))\n",
    "    #print (red_arr)\n",
    "    \n",
    "    for n in range(0, len(red_arr)):\n",
    "        if csvarray[i, 0] != red_arr[n, 0]:\n",
    "            distance = np.sqrt((csvarray[i, 7] - red_arr[n, 7])**2 + (csvarray[i, 8] - red_arr[n, 8])**2) - \\\n",
    "            ((csvarray[i, 1]/2) + (red_arr[n, 1]/2))\n",
    "            arr = np.array([csvarray[i, 0], red_arr[n, 0], distance])\n",
    "            #print (arr)\n",
    "            near_neigh.append(arr)\n",
    "        \n",
    "    near_neigh = np.array(near_neigh) # Converts the list into an array\n",
    "    #print (near_neigh)\n",
    "    min_dist = np.amin(near_neigh[:, 2])\n",
    "    min_index = np.argmin(near_neigh[:, 2]) # Gives the index of the minimum value in the near_neigh array\n",
    "    #print (min_index)\n",
    "    min_array.append(near_neigh[min_index])\n",
    "min_array = np.array(min_array)\n",
    "#print (min_array)\n",
    "        \n",
    "            "
   ]
  },
  {
   "cell_type": "code",
   "execution_count": null,
   "metadata": {},
   "outputs": [],
   "source": [
    "# Writing nearest neighbor data to csv\n",
    "\n",
    "\n",
    "with open(filelocation + tablename + filename + '.csv', 'w', newline='') as f:\n",
    "    writer=csv.writer(f)\n",
    "    writer.writerow(['original particle', 'nearest neighbor', 'distance'])\n",
    "    writer.writerows(min_array)\n"
   ]
  },
  {
   "cell_type": "markdown",
   "metadata": {},
   "source": [
    "Run this next cell only if the previous cells have been run for the desired simulation at least once. The reading of the file prevents the need of running the cell that creates the array of the nearest neighbors.  Cells 2, 3, and 4 still need to be run prior to running the upcoming cells."
   ]
  },
  {
   "cell_type": "code",
   "execution_count": 4,
   "metadata": {},
   "outputs": [],
   "source": [
    "# reading the nearest neighbor data from csv\n",
    "\n",
    "with open(filelocation + tablename + filename + '.csv', 'r') as csvminfile:\n",
    "    csv_min = list(csv.reader(csvminfile, delimiter=\",\"))\n",
    "#print (csv_data[:3])\n",
    "min_array = np.array(csv_min[1:], dtype=np.float) # Remove headers and convert to floats\n",
    "#print (csvarray[:3])"
   ]
  },
  {
   "cell_type": "code",
   "execution_count": 5,
   "metadata": {},
   "outputs": [
    {
     "name": "stdout",
     "output_type": "stream",
     "text": [
      "1.106\n"
     ]
    }
   ],
   "source": [
    "# Finding the mean distance rA\n",
    "\n",
    "#print(min_array[:, 2])\n",
    "rA = np.mean(min_array[:, 2])\n",
    "print (\"{:2.3f}\".format(rA))"
   ]
  },
  {
   "cell_type": "code",
   "execution_count": 6,
   "metadata": {},
   "outputs": [
    {
     "name": "stdout",
     "output_type": "stream",
     "text": [
      "0.1212\n",
      "1.44\n"
     ]
    }
   ],
   "source": [
    "# Calculating rE the expected value\n",
    "\n",
    "# Intensity with the area of the particles taken into consideration\n",
    "lam = num_part / ((x_len * y_len) - len(x)*(np.pi*rad**2)) \n",
    "print (\"{:2.4f}\".format(lam))\n",
    "\n",
    "rE = 1 / (2 * np.sqrt(lam))\n",
    "print (\"{:2.2f}\".format(rE))"
   ]
  },
  {
   "cell_type": "code",
   "execution_count": 7,
   "metadata": {},
   "outputs": [
    {
     "name": "stdout",
     "output_type": "stream",
     "text": [
      "0.77\n"
     ]
    }
   ],
   "source": [
    "# Calculating R ratio of the actual value to the expected value.  \n",
    "# It R is greater than 1 there is ordering and if R is less than 1 there is clustering.\n",
    "# an R value of 1 is undetermined.\n",
    "\n",
    "R = rA / rE\n",
    "print (\"{:2.2f}\".format(R))\n"
   ]
  },
  {
   "cell_type": "markdown",
   "metadata": {
    "collapsed": true
   },
   "source": [
    "This next section calculates Rippley's K value and then calculates the L value and plots L vs radius (distance from original particle).  Plotted along with the L value is the instance when the particle distribution is completely random, or when L = r.  If the plot is above the random line there is clustering and if the plot is below the line there is ordering."
   ]
  },
  {
   "cell_type": "code",
   "execution_count": 11,
   "metadata": {},
   "outputs": [],
   "source": [
    "# The purpose of this function is to calculate the distance between the selected particle and all the other particles.\n",
    "# To do this an array of particles is created where the particles are all within a distance slightly greater than the\n",
    "# radius of interest.  Anoter array is created that has only the particles within the defined radius, and the number\n",
    "# of particles within that array is returned to the calling script.\n",
    "\n",
    "def part_in_rad(arr, part_num, x_val, y_val, radius):\n",
    "    \n",
    "    num_part = []\n",
    "    smallarr = []\n",
    "    \n",
    "    # creating the box around the selected particle and only keeping the particles within that box.\n",
    "    for k in range(0, len(arr)):\n",
    "        if arr[part_num, x_val] - arr[part_num, 1]/2 - radius - 0.5 < arr[k, x_val] + arr[k, 1]/2 and \\\n",
    "        arr[part_num, x_val] + arr[part_num, 1]/2 + radius + 0.5 > arr[k, x_val] - arr[k, 1]/2  and \\\n",
    "        arr[part_num, y_val] - arr[part_num, 1]/2 - radius - 0.5 < arr[k, y_val] + arr[k, 1]/2 and \\\n",
    "        arr[part_num, y_val] + arr[part_num, 1]/2 + radius + 0.5 > arr[k, y_val] - arr[k, 1]/2 and part_num != k:\n",
    "            smallarr.append(arr[k])\n",
    "            #print (smallarr)\n",
    "    smallarr = np.array(smallarr)\n",
    "    #print (smallarr)\n",
    "    \n",
    "    # Finding the particles within the radius of the selected particle.\n",
    "    for i in range(0, len(smallarr)):\n",
    "        #print (i)\n",
    "        dist = np.sqrt((arr[part_num, x_val] - smallarr[i, x_val])**2 + \\\n",
    "        (arr[part_num, y_val] - smallarr[i, y_val])**2) - (arr[part_num, 1]/2 + smallarr[i, 1]/2)\n",
    "        if dist <= radius and dist > 0:\n",
    "            #print (arr[i, :])\n",
    "            num_part.append(smallarr[i])\n",
    "            #print(num_part)\n",
    "        #print (num_part)\n",
    "    num_part = np.array(num_part)\n",
    "    #print (num_part)\n",
    "    #print (len(num_part))        \n",
    "    Np = len(num_part)\n",
    "    #print (Np)\n",
    "#    return num_part\n",
    "\n",
    "    # Returning the number of particles within the radius.\n",
    "    if len(num_part) == 0:\n",
    "        return 0\n",
    "    else:\n",
    "        return Np"
   ]
  },
  {
   "cell_type": "code",
   "execution_count": 12,
   "metadata": {},
   "outputs": [
    {
     "name": "stdout",
     "output_type": "stream",
     "text": [
      "0\n",
      "0.200000005\n",
      "0.40000001\n",
      "0.600000015\n",
      "0.80000002\n",
      "1.000000025\n",
      "1.20000003\n",
      "1.400000035\n",
      "1.60000004\n",
      "1.800000045\n",
      "2.00000005\n",
      "2.200000055\n",
      "2.40000006\n",
      "2.600000065\n",
      "2.80000007\n",
      "[ 0.    0.42  0.66  0.9   1.11  1.33  1.54  1.74  1.94  2.15  2.35  2.55\n",
      "  2.76  2.95  3.16]\n"
     ]
    }
   ],
   "source": [
    "# Calculating k(r)\n",
    "Kr = []\n",
    "\n",
    "radius = [0, rad, rad*2, rad*3, rad*4, rad*5, rad*6, rad*7, rad*8, rad*9, rad*10, rad*11, rad*12, rad*13, rad*14]\n",
    "#print (len(radius))\n",
    "for i in radius:\n",
    "    print (\"{:2.2f}\".format(i))\n",
    "    kr = []\n",
    "    arr = []\n",
    "    for n in range(0, len(csvarray)):\n",
    "        #print (n)\n",
    "        if csvarray[n, 7] - csvarray[n, 1]/2 >= i and csvarray[n, 7] + csvarray[n, 1]/2 <= x_len - i and \\\n",
    "        csvarray[n, 8] - csvarray[n, 1]/2 >= i and csvarray[n, 8] + csvarray[n, 1]/2 <= y_len - i:\n",
    "            num_part = part_in_rad(csvarray, n, 7, 8, i)\n",
    "            #arr.append(num_part)\n",
    "            #np.append(arr, num_part)\n",
    "            #print (arr)\n",
    "            #particle = len(arr)\n",
    "            kr.append(num_part / lam)\n",
    "            #print (kr)\n",
    "    Kr.append(np.mean(kr))\n",
    "Kr = np.array(Kr)\n",
    "\n",
    "# This is to correct for overlapping particles where the distance between \n",
    "# particles in the simulation could be less than 0.\n",
    "Kr[0] = 0 \n",
    "#print (Kr)\n",
    "\n",
    "Lr = np.sqrt(Kr / np.pi)\n",
    "np.set_printoptions(precision=2)\n",
    "print (Lr)"
   ]
  },
  {
   "cell_type": "code",
   "execution_count": 20,
   "metadata": {},
   "outputs": [
    {
     "data": {
      "image/png": "[encoded data removed]",
      "text/plain": [
       "<matplotlib.figure.Figure at 0x10a443128>"
      ]
     },
     "metadata": {},
     "output_type": "display_data"
    }
   ],
   "source": [
    "plt.plot(radius, Lr, 'r*-')\n",
    "plt.plot(radius, radius, 'k-')\n",
    "plt.title(\"Ripley's L value\", fontsize = 18 )\n",
    "plt.xlabel('radius (r)', fontsize = 18)\n",
    "plt.ylabel('L(r)', fontsize = 18)\n",
    "plt.show()"
   ]
  },
  {
   "cell_type": "markdown",
   "metadata": {
    "collapsed": true
   },
   "source": [
    "This final section calculates Rippley's g value.  This value looks at the slope of the K value and normalized it to the random distribution $2 \\pi r$.  If K is random it is equal to $\\pi r^2$, so the slope is $2 \\pi r$.  That means a random g value is equal to 1 for any r.  If the plot of the simulation is above the random line there is clustering and if it is below there is ordering."
   ]
  },
  {
   "cell_type": "code",
   "execution_count": 14,
   "metadata": {},
   "outputs": [
    {
     "name": "stdout",
     "output_type": "stream",
     "text": [
      "[ 2.22  1.65  1.52  1.35  1.32  1.26  1.2   1.15  1.18  1.09  1.13  1.14\n",
      "  1.08  1.14]\n"
     ]
    }
   ],
   "source": [
    "gr = []\n",
    "\n",
    "for i in range(1, len(radius)):\n",
    "    dkr = (Kr[i] - Kr[i-1]) / (radius[i] - radius[i-1])\n",
    "    #print (dkr)\n",
    "    gr.append(dkr / (2 * np.pi * radius[i]))\n",
    "gr = np.array(gr)\n",
    "print (gr)"
   ]
  },
  {
   "cell_type": "code",
   "execution_count": 21,
   "metadata": {},
   "outputs": [
    {
     "data": {
      "image/png": "[encoded data removed]",
      "text/plain": [
       "<matplotlib.figure.Figure at 0x10a493438>"
      ]
     },
     "metadata": {},
     "output_type": "display_data"
    }
   ],
   "source": [
    "plt.plot(radius[1:len(radius)], gr, 'bo-')\n",
    "plt.plot(radius[1:len(radius)], np.ones(len(gr)), 'k-')\n",
    "plt.title(\"Ripley's g value (pair correlation)\", fontsize = 18)\n",
    "plt.xlabel('radius (r)', fontsize = 18)\n",
    "plt.ylabel('g(r)', fontsize = 18)\n",
    "plt.show()"
   ]
  },
  {
   "cell_type": "code",
   "execution_count": null,
   "metadata": {},
   "outputs": [],
   "source": []
  }
 ],
 "metadata": {
  "kernelspec": {
   "display_name": "Python 3",
   "language": "python",
   "name": "python3"
  },
  "language_info": {
   "codemirror_mode": {
    "name": "ipython",
    "version": 3
   },
   "file_extension": ".py",
   "mimetype": "text/x-python",
   "name": "python",
   "nbconvert_exporter": "python",
   "pygments_lexer": "ipython3",
   "version": "3.6.2"
  }
 },
 "nbformat": 4,
 "nbformat_minor": 2
}
